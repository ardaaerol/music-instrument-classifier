{
 "cells": [
  {
   "cell_type": "markdown",
   "id": "0bc43f7c",
   "metadata": {},
   "source": [
    "# Musical Instrument Classifier Training\n",
    "Created by Arda Erol"
   ]
  },
  {
   "cell_type": "code",
   "execution_count": null,
   "id": "fc79b6f2",
   "metadata": {},
   "outputs": [],
   "source": [
    "from fastai.vision.all import *\n",
    "from pathlib import Path"
   ]
  },
  {
   "cell_type": "markdown",
   "id": "a8754d59",
   "metadata": {},
   "source": [
    "### Mount Google Drive and Extract Dataset"
   ]
  },
  {
   "cell_type": "code",
   "execution_count": null,
   "id": "e06a5694",
   "metadata": {},
   "outputs": [],
   "source": [
    "# from google.colab import drive\n",
    "# drive.mount('/content/drive')\n",
    "\n",
    "# !unzip -q '/content/drive/MyDrive/music_instruments.zip' -d /content\n",
    "path = Path('/content/music_instruments')"
   ]
  },
  {
   "cell_type": "markdown",
   "id": "c9be3752",
   "metadata": {},
   "source": [
    "### Preview Data and Folder Structure"
   ]
  },
  {
   "cell_type": "code",
   "execution_count": null,
   "id": "4a0b23da",
   "metadata": {},
   "outputs": [],
   "source": [
    "get_image_files(path)[:5]"
   ]
  },
  {
   "cell_type": "markdown",
   "id": "5990ec3c",
   "metadata": {},
   "source": [
    "### Create DataBlock and Loaders"
   ]
  },
  {
   "cell_type": "code",
   "execution_count": null,
   "id": "dc534c4d",
   "metadata": {},
   "outputs": [],
   "source": [
    "dblock = DataBlock(\n",
    "    blocks=(ImageBlock, CategoryBlock),\n",
    "    get_items=get_image_files,\n",
    "    get_y=parent_label,\n",
    "    item_tfms=Resize(460),\n",
    "    batch_tfms=aug_transforms(size=224)\n",
    ")\n",
    "dls = dblock.dataloaders(path, bs=64)"
   ]
  },
  {
   "cell_type": "markdown",
   "id": "6efbf88e",
   "metadata": {},
   "source": [
    "### Show Sample Batch"
   ]
  },
  {
   "cell_type": "code",
   "execution_count": null,
   "id": "034ac452",
   "metadata": {},
   "outputs": [],
   "source": [
    "dls.show_batch(max_n=9, figsize=(8,6))"
   ]
  },
  {
   "cell_type": "markdown",
   "id": "d5ddca85",
   "metadata": {},
   "source": [
    "### Model and Learning Rate Finder"
   ]
  },
  {
   "cell_type": "code",
   "execution_count": null,
   "id": "0748148e",
   "metadata": {},
   "outputs": [],
   "source": [
    "learn = vision_learner(dls, resnet18, metrics=accuracy)\n",
    "lr_min, lr_steep = learn.lr_find(suggest_funcs=(minimum, steep))\n",
    "print(f\"Suggested learning rates: min={lr_min}, steep={lr_steep}\")"
   ]
  },
  {
   "cell_type": "markdown",
   "id": "90c8d1ba",
   "metadata": {},
   "source": [
    "### Train the Model"
   ]
  },
  {
   "cell_type": "code",
   "execution_count": null,
   "id": "978084e4",
   "metadata": {},
   "outputs": [],
   "source": [
    "learn.fine_tune(3, base_lr=lr_min)"
   ]
  },
  {
   "cell_type": "markdown",
   "id": "bc1f8ce7",
   "metadata": {},
   "source": [
    "### Interpret Results"
   ]
  },
  {
   "cell_type": "code",
   "execution_count": null,
   "id": "8a0eb8da",
   "metadata": {},
   "outputs": [],
   "source": [
    "interp = ClassificationInterpretation.from_learner(learn)\n",
    "interp.plot_confusion_matrix(figsize=(6,6))"
   ]
  },
  {
   "cell_type": "markdown",
   "id": "06b14a83",
   "metadata": {},
   "source": [
    "### Save the Model"
   ]
  },
  {
   "cell_type": "code",
   "execution_count": null,
   "id": "946d35fe",
   "metadata": {},
   "outputs": [],
   "source": [
    "learn.path = Path('.')\n",
    "learn.export('music_instruments_model.pkl')\n",
    "learn.save('music_weights')"
   ]
  },
  {
   "cell_type": "markdown",
   "id": "5e280a97",
   "metadata": {},
   "source": [
    "### Download the Model File"
   ]
  },
  {
   "cell_type": "code",
   "execution_count": null,
   "id": "15a90dbe",
   "metadata": {},
   "outputs": [],
   "source": [
    "from google.colab import files\n",
    "files.download('models/music_weights.pth')"
   ]
  }
 ],
 "metadata": {},
 "nbformat": 4,
 "nbformat_minor": 5
}